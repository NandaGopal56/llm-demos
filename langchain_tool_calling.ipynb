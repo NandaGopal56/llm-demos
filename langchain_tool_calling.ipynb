{
 "cells": [
  {
   "cell_type": "code",
   "execution_count": 2,
   "id": "212698fe",
   "metadata": {},
   "outputs": [],
   "source": [
    "from langchain_openai import ChatOpenAI\n",
    "from langchain.tools import tool\n",
    "from langchain.agents import create_tool_calling_agent, AgentExecutor\n",
    "from langchain_core.prompts import ChatPromptTemplate\n",
    "from langchain_core.messages import HumanMessage"
   ]
  },
  {
   "cell_type": "code",
   "execution_count": 1,
   "id": "ad78720b",
   "metadata": {},
   "outputs": [
    {
     "data": {
      "text/plain": [
       "True"
      ]
     },
     "execution_count": 1,
     "metadata": {},
     "output_type": "execute_result"
    }
   ],
   "source": [
    "import os\n",
    "bool(os.environ[\"OPENAI_API_KEY\"])"
   ]
  },
  {
   "cell_type": "code",
   "execution_count": 3,
   "id": "8aabf1e4",
   "metadata": {},
   "outputs": [],
   "source": [
    "@tool\n",
    "def get_weather(location: str) -> str:\n",
    "    '''\n",
    "    This tool is used to get the weather in a given location in celsius.\n",
    "    '''\n",
    "    data = {\"chennai\": 33, \"delhi\": 29}\n",
    "    return f\"The weather in {location} is {data.get(location.lower(), 25)} celsius\"\n",
    "\n",
    "@tool\n",
    "def calculator(expression: str) -> str:\n",
    "    '''\n",
    "    This tool is used to evaluate a mathematical expression.\n",
    "    The input should be a string of a mathematical expression.\n",
    "    '''\n",
    "    return str(eval(expression))\n",
    "\n",
    "@tool\n",
    "def get_time(timezone: str = \"UTC\") -> str:\n",
    "    '''\n",
    "    This tool is used to get the current time in a given timezone.\n",
    "    '''\n",
    "    import datetime\n",
    "    from pytz import timezone as tz\n",
    "\n",
    "    now = datetime.datetime.now(tz(timezone))\n",
    "    return now.strftime(\"%Y-%m-%d %H:%M:%S\")\n",
    "\n",
    "\n",
    "tool_registry = {\n",
    "    \"get_weather\": get_weather,\n",
    "    \"calculator\": calculator,\n",
    "    \"get_time\": get_time\n",
    "}\n",
    "\n",
    "tools = [tool_registry[tool_name] for tool_name in tool_registry]\n",
    "\n",
    "# Use nano model directly\n",
    "llm = ChatOpenAI(model=\"gpt-4.1-nano\")\n",
    "llm_with_tools = llm.bind_tools(tools)"
   ]
  },
  {
   "cell_type": "code",
   "execution_count": 4,
   "id": "5470ad01",
   "metadata": {},
   "outputs": [
    {
     "data": {
      "text/plain": [
       "AIMessage(content='', additional_kwargs={'tool_calls': [{'id': 'call_guXMyWA4luNHnWmVKEKzT0ZB', 'function': {'arguments': '{\"location\": \"Chennai\"}', 'name': 'get_weather'}, 'type': 'function'}, {'id': 'call_8QO7z2l6fYZ2MnPqwbcdV88a', 'function': {'arguments': '{\"expression\": \"2+3+5\"}', 'name': 'calculator'}, 'type': 'function'}], 'refusal': None}, response_metadata={'token_usage': {'completion_tokens': 49, 'prompt_tokens': 139, 'total_tokens': 188, 'completion_tokens_details': {'accepted_prediction_tokens': 0, 'audio_tokens': 0, 'reasoning_tokens': 0, 'rejected_prediction_tokens': 0}, 'prompt_tokens_details': {'audio_tokens': 0, 'cached_tokens': 0}}, 'model_name': 'gpt-4.1-nano-2025-04-14', 'system_fingerprint': 'fp_04d3664870', 'id': 'chatcmpl-CJPMGg8iNocyH8EQjlUVDarVgxM5i', 'service_tier': 'default', 'finish_reason': 'tool_calls', 'logprobs': None}, id='run--de485a17-0749-44a9-97bf-d6033793ce73-0', tool_calls=[{'name': 'get_weather', 'args': {'location': 'Chennai'}, 'id': 'call_guXMyWA4luNHnWmVKEKzT0ZB', 'type': 'tool_call'}, {'name': 'calculator', 'args': {'expression': '2+3+5'}, 'id': 'call_8QO7z2l6fYZ2MnPqwbcdV88a', 'type': 'tool_call'}], usage_metadata={'input_tokens': 139, 'output_tokens': 49, 'total_tokens': 188, 'input_token_details': {'audio': 0, 'cache_read': 0}, 'output_token_details': {'audio': 0, 'reasoning': 0}})"
      ]
     },
     "execution_count": 4,
     "metadata": {},
     "output_type": "execute_result"
    }
   ],
   "source": [
    "# Initial user message\n",
    "messages = [HumanMessage(content=\"What's the weather in Chennai and also add the integers 2,3,5?\")]\n",
    "\n",
    "# Run LLM to get tool calls\n",
    "ai_msg = llm_with_tools.invoke(messages)\n",
    "ai_msg"
   ]
  },
  {
   "cell_type": "code",
   "execution_count": 5,
   "id": "d5346a6b",
   "metadata": {},
   "outputs": [],
   "source": [
    "\n",
    "# Append the AIMessage containing tool_calls\n",
    "messages.append(ai_msg)\n",
    "\n",
    "# Run each tool call manually and append ToolMessage\n",
    "for tool_call in ai_msg.tool_calls or []:\n",
    "    tool_name = tool_call[\"name\"]\n",
    "    arguments = tool_call[\"args\"]\n",
    "\n",
    "    if tool_name in tool_registry:\n",
    "        # The LangChain guide uses `invoke` directly for the tool call\n",
    "        tool_msg = tool_registry[tool_name].invoke(tool_call)\n",
    "    else:\n",
    "        tool_msg = ToolMessage(\n",
    "            content=\"Unknown tool\",\n",
    "            tool_name=tool_name,\n",
    "            tool_call_id=tool_call[\"id\"],\n",
    "            tool_input=json.dumps(arguments)\n",
    "        )\n",
    "\n",
    "    messages.append(tool_msg)\n"
   ]
  },
  {
   "cell_type": "code",
   "execution_count": null,
   "id": "e210756e",
   "metadata": {},
   "outputs": [
    {
     "data": {
      "text/plain": [
       "AIMessage(content='The weather in Chennai is 33 degrees Celsius, and the sum of the integers 2, 3, and 5 is 10.', additional_kwargs={'refusal': None}, response_metadata={'token_usage': {'completion_tokens': 30, 'prompt_tokens': 212, 'total_tokens': 242, 'completion_tokens_details': {'accepted_prediction_tokens': 0, 'audio_tokens': 0, 'reasoning_tokens': 0, 'rejected_prediction_tokens': 0}, 'prompt_tokens_details': {'audio_tokens': 0, 'cached_tokens': 0}}, 'model_name': 'gpt-4.1-nano-2025-04-14', 'system_fingerprint': 'fp_04d3664870', 'id': 'chatcmpl-CJPMiX5XoWhLtaMicLVUausOwRZcy', 'service_tier': 'default', 'finish_reason': 'stop', 'logprobs': None}, id='run--1c3dd526-d902-4c27-941e-ed011d2219e1-0', usage_metadata={'input_tokens': 212, 'output_tokens': 30, 'total_tokens': 242, 'input_token_details': {'audio': 0, 'cache_read': 0}, 'output_token_details': {'audio': 0, 'reasoning': 0}})"
      ]
     },
     "execution_count": 6,
     "metadata": {},
     "output_type": "execute_result"
    }
   ],
   "source": [
    "# Re-run the LLM with updated context from tool calls\n",
    "final_response = llm_with_tools.invoke(messages)\n",
    "final_response"
   ]
  },
  {
   "cell_type": "code",
   "execution_count": 7,
   "id": "9804eb5e",
   "metadata": {},
   "outputs": [
    {
     "name": "stdout",
     "output_type": "stream",
     "text": [
      "\n",
      "\n",
      "\u001b[1m> Entering new AgentExecutor chain...\u001b[0m\n",
      "\u001b[32;1m\u001b[1;3m\n",
      "Invoking: `get_weather` with `{'location': 'Chennai'}`\n",
      "\n",
      "\n",
      "\u001b[0m\u001b[36;1m\u001b[1;3mThe weather in Chennai is 33 celsius\u001b[0m\u001b[32;1m\u001b[1;3m\n",
      "Invoking: `calculator` with `{'expression': '2+3+5'}`\n",
      "\n",
      "\n",
      "\u001b[0m\u001b[33;1m\u001b[1;3m10\u001b[0m\u001b[32;1m\u001b[1;3mThe weather in Chennai is 33 degrees Celsius, and the sum of [2, 3, 5] is 10.\u001b[0m\n",
      "\n",
      "\u001b[1m> Finished chain.\u001b[0m\n"
     ]
    },
    {
     "data": {
      "text/plain": [
       "{'input': \"What's the weather in Chennai and also add [2,3,5]?\",\n",
       " 'output': 'The weather in Chennai is 33 degrees Celsius, and the sum of [2, 3, 5] is 10.'}"
      ]
     },
     "execution_count": 7,
     "metadata": {},
     "output_type": "execute_result"
    }
   ],
   "source": [
    "# Using the built-in agent executor\n",
    "# This is a more compact way to do the same thing as above and is recommended for most use cases\n",
    "# It is a wrapper around the above code and handles the tool calling and message management\n",
    "\n",
    "# Agent prompt\n",
    "prompt = ChatPromptTemplate.from_messages([\n",
    "    (\"system\", \"you're a helpful assistant\"), \n",
    "    (\"human\", \"{input}\"), \n",
    "    (\"placeholder\", \"{agent_scratchpad}\"),\n",
    "])\n",
    "\n",
    "agent = create_tool_calling_agent(llm, tools, prompt)\n",
    "agent_executor = AgentExecutor(agent=agent, tools=tools, verbose=True)\n",
    "\n",
    "agent_executor.invoke({\"input\": \"What's the weather in Chennai and also add [2,3,5]?\"})"
   ]
  }
 ],
 "metadata": {
  "kernelspec": {
   "display_name": ".venv",
   "language": "python",
   "name": "python3"
  },
  "language_info": {
   "codemirror_mode": {
    "name": "ipython",
    "version": 3
   },
   "file_extension": ".py",
   "mimetype": "text/x-python",
   "name": "python",
   "nbconvert_exporter": "python",
   "pygments_lexer": "ipython3",
   "version": "3.10.8"
  }
 },
 "nbformat": 4,
 "nbformat_minor": 5
}
