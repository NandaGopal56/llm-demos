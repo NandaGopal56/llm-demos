{
 "cells": [
  {
   "cell_type": "code",
   "execution_count": 1,
   "id": "3c2221a7",
   "metadata": {},
   "outputs": [],
   "source": [
    "from openai import OpenAI\n",
    "import json"
   ]
  },
  {
   "cell_type": "code",
   "execution_count": 5,
   "id": "4475ebb8",
   "metadata": {},
   "outputs": [
    {
     "data": {
      "text/plain": [
       "True"
      ]
     },
     "execution_count": 5,
     "metadata": {},
     "output_type": "execute_result"
    }
   ],
   "source": [
    "import os\n",
    "bool(os.environ[\"OPENAI_API_KEY\"])"
   ]
  },
  {
   "cell_type": "code",
   "execution_count": 2,
   "id": "39fb905b",
   "metadata": {},
   "outputs": [],
   "source": [
    "client = OpenAI()"
   ]
  },
  {
   "cell_type": "code",
   "execution_count": 3,
   "id": "36a35d0d",
   "metadata": {},
   "outputs": [],
   "source": [
    "def get_weather(location: str, unit: str = \"celsius\"):\n",
    "    \"\"\"Mock weather lookup\"\"\"\n",
    "    data = {\n",
    "        \"chennai\": 33,\n",
    "        \"delhi\": 29,\n",
    "        \"mumbai\": 30,\n",
    "    }\n",
    "    return {\n",
    "        \"location\": location,\n",
    "        \"temperature\": data.get(location.lower(), 25),\n",
    "        \"unit\": unit,\n",
    "    }\n",
    "\n",
    "def get_time(city: str):\n",
    "    \"\"\"Mock time lookup\"\"\"\n",
    "    times = {\n",
    "        \"chennai\": \"2025-09-24 18:30\",\n",
    "        \"delhi\": \"2025-09-24 18:00\",\n",
    "        \"london\": \"2025-09-24 14:00\",\n",
    "    }\n",
    "    return {\"city\": city, \"time\": times.get(city.lower(), \"2025-09-24 12:00\")}\n",
    "\n",
    "def calculator(expression: str):\n",
    "    \"\"\"Simple math calculator\"\"\"\n",
    "    return {\"expression\": expression, \"result\": eval(expression)}\n",
    "\n"
   ]
  },
  {
   "cell_type": "code",
   "execution_count": 4,
   "id": "b0b79163",
   "metadata": {},
   "outputs": [],
   "source": [
    "tools = [\n",
    "    {\n",
    "        \"type\": \"function\",\n",
    "        \"function\": {\n",
    "            \"name\": \"get_weather\",\n",
    "            \"description\": \"Get the current weather in a location\",\n",
    "            \"parameters\": {\n",
    "                \"type\": \"object\",\n",
    "                \"properties\": {\n",
    "                    \"location\": {\"type\": \"string\"},\n",
    "                    \"unit\": {\"type\": \"string\", \"enum\": [\"celsius\", \"fahrenheit\"]},\n",
    "                },\n",
    "                \"required\": [\"location\"],\n",
    "            },\n",
    "        },\n",
    "    },\n",
    "    {\n",
    "        \"type\": \"function\",\n",
    "        \"function\": {\n",
    "            \"name\": \"get_time\",\n",
    "            \"description\": \"Get the current time in a given city\",\n",
    "            \"parameters\": {\n",
    "                \"type\": \"object\",\n",
    "                \"properties\": {\"city\": {\"type\": \"string\"}},\n",
    "                \"required\": [\"city\"],\n",
    "            },\n",
    "        },\n",
    "    },\n",
    "    {\n",
    "        \"type\": \"function\",\n",
    "        \"function\": {\n",
    "            \"name\": \"calculator\",\n",
    "            \"description\": \"Calculate the result of a mathematical expression\",\n",
    "            \"parameters\": {\n",
    "                \"type\": \"object\",\n",
    "                \"properties\": {\n",
    "                    \"expression\": {\"type\": \"string\"},\n",
    "                },\n",
    "                \"required\": [\"expression\"],\n",
    "            },\n",
    "        },\n",
    "    },\n",
    "]\n",
    "\n",
    "# Tool registry\n",
    "tool_registry = {\n",
    "    \"get_weather\": get_weather,\n",
    "    \"get_time\": get_time,\n",
    "    \"calculator\": calculator,\n",
    "}"
   ]
  },
  {
   "cell_type": "code",
   "execution_count": 5,
   "id": "e1ce3d30",
   "metadata": {},
   "outputs": [
    {
     "name": "stdout",
     "output_type": "stream",
     "text": [
      "Model output: ChatCompletionMessage(content=None, refusal=None, role='assistant', annotations=[], audio=None, function_call=None, tool_calls=[ChatCompletionMessageFunctionToolCall(id='call_h9W7woB3FaHrZPMYUFmaM9oq', function=Function(arguments='{\"expression\":\"2+2*9/8*6*7.1*7/22/33*8\"}', name='calculator'), type='function')])\n"
     ]
    }
   ],
   "source": [
    "messages = [\n",
    "    {\"role\": \"user\", \"content\": \"whats 2+2*9/8*6*7.1*7/22/33*8\"}\n",
    "]\n",
    "\n",
    "response = client.chat.completions.create(\n",
    "    model=\"gpt-4.1-nano\",   # can switch to \"gpt-4.1-nano\" if enabled\n",
    "    messages=messages,\n",
    "    tools=tools,\n",
    "    tool_choice=\"auto\"\n",
    ")\n",
    "\n",
    "message = response.choices[0].message\n",
    "print(\"Model output:\", message)"
   ]
  },
  {
   "cell_type": "code",
   "execution_count": 18,
   "id": "7f77cf87",
   "metadata": {},
   "outputs": [
    {
     "name": "stdout",
     "output_type": "stream",
     "text": [
      "Final Answer: The result of the expression \\(2 + 2 \\times 9 / 8 \\times 6 \\times 7.1 \\times 7 / 22 / 33 \\times 8\\) is approximately 9.39.\n"
     ]
    }
   ],
   "source": [
    "\n",
    "\n",
    "# Handle tool calls dynamically\n",
    "if message.tool_calls:\n",
    "    for tool_call in message.tool_calls:\n",
    "        tool_name = tool_call.function.name\n",
    "        params = json.loads(tool_call.function.arguments)\n",
    "\n",
    "        func = tool_registry.get(tool_name)\n",
    "        if func:\n",
    "            result = func(**params)\n",
    "        else:\n",
    "            result = {\"error\": f\"Unknown tool: {tool_name}\"}\n",
    "\n",
    "        # Send back to model\n",
    "        messages.append(message)\n",
    "        messages.append(\n",
    "            {\"role\": \"tool\", \"tool_call_id\": tool_call.id, \"content\": json.dumps(result)}\n",
    "        )\n",
    "\n",
    "        final_response = client.chat.completions.create(\n",
    "            model=\"gpt-4.1-mini\",\n",
    "            messages=messages,\n",
    "        )\n",
    "        print(\"Final Answer:\", final_response.choices[0].message.content)\n",
    "else:\n",
    "    print(\"LLM reply:\", message.content)"
   ]
  }
 ],
 "metadata": {
  "kernelspec": {
   "display_name": ".venv",
   "language": "python",
   "name": "python3"
  },
  "language_info": {
   "codemirror_mode": {
    "name": "ipython",
    "version": 3
   },
   "file_extension": ".py",
   "mimetype": "text/x-python",
   "name": "python",
   "nbconvert_exporter": "python",
   "pygments_lexer": "ipython3",
   "version": "3.10.8"
  }
 },
 "nbformat": 4,
 "nbformat_minor": 5
}
